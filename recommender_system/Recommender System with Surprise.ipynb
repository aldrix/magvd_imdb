{
 "cells": [
  {
   "cell_type": "markdown",
   "source": [
    "# Import Libraries"
   ],
   "metadata": {
    "collapsed": false
   }
  },
  {
   "cell_type": "code",
   "execution_count": 67,
   "outputs": [],
   "source": [
    "import pandas as pd\n",
    "import seaborn as sns\n",
    "from surprise import Reader\n",
    "from surprise import Dataset\n",
    "from surprise.model_selection import cross_validate, KFold\n",
    "from surprise import NormalPredictor\n",
    "from surprise import KNNBasic\n",
    "from surprise import KNNBaseline\n",
    "from surprise import SVD\n",
    "from surprise import BaselineOnly\n",
    "from surprise import NMF\n",
    "from surprise import SlopeOne\n",
    "from surprise.accuracy import rmse\n",
    "from surprise import accuracy\n",
    "from surprise.model_selection import train_test_split"
   ],
   "metadata": {
    "collapsed": false,
    "pycharm": {
     "name": "#%%\n"
    }
   }
  },
  {
   "cell_type": "markdown",
   "source": [
    "# Data Load"
   ],
   "metadata": {
    "collapsed": false
   }
  },
  {
   "cell_type": "code",
   "execution_count": 68,
   "outputs": [],
   "source": [
    "# Loading all data relation with movie ratings\n",
    "import surprise\n",
    "item_rating = pd.read_csv(r'C:\\Users\\smmanrrique\\3D Objects\\unizar\\magvd_imdb\\miscelaneos\\learning-from-sets-2019\\item_ratings.csv')\n",
    "set_ratings = pd.read_csv(r'C:\\Users\\smmanrrique\\3D Objects\\unizar\\magvd_imdb\\miscelaneos\\learning-from-sets-2019\\set_ratings.csv')\n",
    "movies = pd.read_csv(r'C:\\Users\\smmanrrique\\3D Objects\\unizar\\magvd_imdb\\miscelaneos\\ml-25m\\movies.csv')"
   ],
   "metadata": {
    "collapsed": false,
    "pycharm": {
     "name": "#%%\n"
    }
   }
  },
  {
   "cell_type": "code",
   "execution_count": 69,
   "outputs": [
    {
     "data": {
      "text/plain": "           userId  movieId_1  movieId_2  movieId_3  movieId_4  movieId_5  \\\n0      7fdcecb392       1265       2628       6299      82459     134853   \n1      7fdcecb392       1405       3301       4368      73060     128918   \n2      7fdcecb392        165       1082       4745       5999      58661   \n3      7fdcecb392       1258       1393       4963      33615      86345   \n4      7fdcecb392       1422       3020       5445       8464      65802   \n...           ...        ...        ...        ...        ...        ...   \n29511  41e3b8ebbc       1291       2431       3928       4865      78893   \n29512  41e3b8ebbc        830       2118       3317       6535      44397   \n29513  41e3b8ebbc        446       1391       2947       6266     110968   \n29514  41e3b8ebbc      53460      66365      71579      82169      88163   \n29515  41e3b8ebbc       4734      30793      66097      77837     103249   \n\n       rating            timestamp  \n0         4.0  2016-03-12 22:10:24  \n1         2.0  2016-03-12 22:10:42  \n2         3.0  2016-03-12 22:10:53  \n3         4.0  2016-03-12 22:11:02  \n4         3.0  2016-03-12 22:11:11  \n...       ...                  ...  \n29511     4.0  2016-03-07 04:04:16  \n29512     3.5  2016-03-07 04:04:22  \n29513     3.5  2016-03-07 04:04:29  \n29514     3.0  2016-03-07 04:04:38  \n29515     4.0  2016-03-07 04:04:49  \n\n[29516 rows x 8 columns]",
      "text/html": "<div>\n<style scoped>\n    .dataframe tbody tr th:only-of-type {\n        vertical-align: middle;\n    }\n\n    .dataframe tbody tr th {\n        vertical-align: top;\n    }\n\n    .dataframe thead th {\n        text-align: right;\n    }\n</style>\n<table border=\"1\" class=\"dataframe\">\n  <thead>\n    <tr style=\"text-align: right;\">\n      <th></th>\n      <th>userId</th>\n      <th>movieId_1</th>\n      <th>movieId_2</th>\n      <th>movieId_3</th>\n      <th>movieId_4</th>\n      <th>movieId_5</th>\n      <th>rating</th>\n      <th>timestamp</th>\n    </tr>\n  </thead>\n  <tbody>\n    <tr>\n      <th>0</th>\n      <td>7fdcecb392</td>\n      <td>1265</td>\n      <td>2628</td>\n      <td>6299</td>\n      <td>82459</td>\n      <td>134853</td>\n      <td>4.0</td>\n      <td>2016-03-12 22:10:24</td>\n    </tr>\n    <tr>\n      <th>1</th>\n      <td>7fdcecb392</td>\n      <td>1405</td>\n      <td>3301</td>\n      <td>4368</td>\n      <td>73060</td>\n      <td>128918</td>\n      <td>2.0</td>\n      <td>2016-03-12 22:10:42</td>\n    </tr>\n    <tr>\n      <th>2</th>\n      <td>7fdcecb392</td>\n      <td>165</td>\n      <td>1082</td>\n      <td>4745</td>\n      <td>5999</td>\n      <td>58661</td>\n      <td>3.0</td>\n      <td>2016-03-12 22:10:53</td>\n    </tr>\n    <tr>\n      <th>3</th>\n      <td>7fdcecb392</td>\n      <td>1258</td>\n      <td>1393</td>\n      <td>4963</td>\n      <td>33615</td>\n      <td>86345</td>\n      <td>4.0</td>\n      <td>2016-03-12 22:11:02</td>\n    </tr>\n    <tr>\n      <th>4</th>\n      <td>7fdcecb392</td>\n      <td>1422</td>\n      <td>3020</td>\n      <td>5445</td>\n      <td>8464</td>\n      <td>65802</td>\n      <td>3.0</td>\n      <td>2016-03-12 22:11:11</td>\n    </tr>\n    <tr>\n      <th>...</th>\n      <td>...</td>\n      <td>...</td>\n      <td>...</td>\n      <td>...</td>\n      <td>...</td>\n      <td>...</td>\n      <td>...</td>\n      <td>...</td>\n    </tr>\n    <tr>\n      <th>29511</th>\n      <td>41e3b8ebbc</td>\n      <td>1291</td>\n      <td>2431</td>\n      <td>3928</td>\n      <td>4865</td>\n      <td>78893</td>\n      <td>4.0</td>\n      <td>2016-03-07 04:04:16</td>\n    </tr>\n    <tr>\n      <th>29512</th>\n      <td>41e3b8ebbc</td>\n      <td>830</td>\n      <td>2118</td>\n      <td>3317</td>\n      <td>6535</td>\n      <td>44397</td>\n      <td>3.5</td>\n      <td>2016-03-07 04:04:22</td>\n    </tr>\n    <tr>\n      <th>29513</th>\n      <td>41e3b8ebbc</td>\n      <td>446</td>\n      <td>1391</td>\n      <td>2947</td>\n      <td>6266</td>\n      <td>110968</td>\n      <td>3.5</td>\n      <td>2016-03-07 04:04:29</td>\n    </tr>\n    <tr>\n      <th>29514</th>\n      <td>41e3b8ebbc</td>\n      <td>53460</td>\n      <td>66365</td>\n      <td>71579</td>\n      <td>82169</td>\n      <td>88163</td>\n      <td>3.0</td>\n      <td>2016-03-07 04:04:38</td>\n    </tr>\n    <tr>\n      <th>29515</th>\n      <td>41e3b8ebbc</td>\n      <td>4734</td>\n      <td>30793</td>\n      <td>66097</td>\n      <td>77837</td>\n      <td>103249</td>\n      <td>4.0</td>\n      <td>2016-03-07 04:04:49</td>\n    </tr>\n  </tbody>\n</table>\n<p>29516 rows × 8 columns</p>\n</div>"
     },
     "execution_count": 69,
     "metadata": {},
     "output_type": "execute_result"
    }
   ],
   "source": [
    "# Show data in dataframes\n",
    "item_rating\n",
    "set_ratings\n",
    "# movies"
   ],
   "metadata": {
    "collapsed": false,
    "pycharm": {
     "name": "#%%\n"
    }
   }
  },
  {
   "cell_type": "markdown",
   "source": [
    "# Data creation"
   ],
   "metadata": {
    "collapsed": false
   }
  },
  {
   "cell_type": "code",
   "execution_count": 70,
   "outputs": [
    {
     "data": {
      "text/plain": "            userId  movieId  rating            timestamp  \\\n0       39032b0f7a        1     3.0  1997-11-06 06:36:16   \n1       adc34e8c1b        1     3.0  1997-11-29 17:31:04   \n2       e9f9759020        1     4.0  2015-09-23 21:34:40   \n3       d6dc47fa4c        1     4.0  1999-06-17 03:38:25   \n4       5efaf0ea51        1     4.5  2004-02-27 22:04:53   \n...            ...      ...     ...                  ...   \n452854  ca1dcaf62a   142452     4.0  2016-02-23 12:32:48   \n452855  ca1dcaf62a   148374     4.5  2016-02-24 09:57:08   \n452856  ca1dcaf62a   153957     5.0  2016-02-25 19:29:05   \n452857  5498613177   154051     4.0  2016-02-28 11:57:47   \n452858  7c6462d4f6   134712     3.0  2016-02-29 11:17:42   \n\n                                                    title  \\\n0                                        Toy Story (1995)   \n1                                        Toy Story (1995)   \n2                                        Toy Story (1995)   \n3                                        Toy Story (1995)   \n4                                        Toy Story (1995)   \n...                                                   ...   \n452854  Puella Magi Madoka Magica the Movie Part II: E...   \n452855                                      Cosmos (2015)   \n452856                  The Dark Side Of Chocolate (2010)   \n452857                    The Last Man on the Moon (2016)   \n452858  Magician: The Astonishing Life and Work of Ors...   \n\n                                             genres  \n0       Adventure|Animation|Children|Comedy|Fantasy  \n1       Adventure|Animation|Children|Comedy|Fantasy  \n2       Adventure|Animation|Children|Comedy|Fantasy  \n3       Adventure|Animation|Children|Comedy|Fantasy  \n4       Adventure|Animation|Children|Comedy|Fantasy  \n...                                             ...  \n452854              Action|Animation|Horror|Mystery  \n452855                                        Drama  \n452856                            Documentary|Drama  \n452857                            Documentary|Drama  \n452858                                  Documentary  \n\n[452859 rows x 6 columns]",
      "text/html": "<div>\n<style scoped>\n    .dataframe tbody tr th:only-of-type {\n        vertical-align: middle;\n    }\n\n    .dataframe tbody tr th {\n        vertical-align: top;\n    }\n\n    .dataframe thead th {\n        text-align: right;\n    }\n</style>\n<table border=\"1\" class=\"dataframe\">\n  <thead>\n    <tr style=\"text-align: right;\">\n      <th></th>\n      <th>userId</th>\n      <th>movieId</th>\n      <th>rating</th>\n      <th>timestamp</th>\n      <th>title</th>\n      <th>genres</th>\n    </tr>\n  </thead>\n  <tbody>\n    <tr>\n      <th>0</th>\n      <td>39032b0f7a</td>\n      <td>1</td>\n      <td>3.0</td>\n      <td>1997-11-06 06:36:16</td>\n      <td>Toy Story (1995)</td>\n      <td>Adventure|Animation|Children|Comedy|Fantasy</td>\n    </tr>\n    <tr>\n      <th>1</th>\n      <td>adc34e8c1b</td>\n      <td>1</td>\n      <td>3.0</td>\n      <td>1997-11-29 17:31:04</td>\n      <td>Toy Story (1995)</td>\n      <td>Adventure|Animation|Children|Comedy|Fantasy</td>\n    </tr>\n    <tr>\n      <th>2</th>\n      <td>e9f9759020</td>\n      <td>1</td>\n      <td>4.0</td>\n      <td>2015-09-23 21:34:40</td>\n      <td>Toy Story (1995)</td>\n      <td>Adventure|Animation|Children|Comedy|Fantasy</td>\n    </tr>\n    <tr>\n      <th>3</th>\n      <td>d6dc47fa4c</td>\n      <td>1</td>\n      <td>4.0</td>\n      <td>1999-06-17 03:38:25</td>\n      <td>Toy Story (1995)</td>\n      <td>Adventure|Animation|Children|Comedy|Fantasy</td>\n    </tr>\n    <tr>\n      <th>4</th>\n      <td>5efaf0ea51</td>\n      <td>1</td>\n      <td>4.5</td>\n      <td>2004-02-27 22:04:53</td>\n      <td>Toy Story (1995)</td>\n      <td>Adventure|Animation|Children|Comedy|Fantasy</td>\n    </tr>\n    <tr>\n      <th>...</th>\n      <td>...</td>\n      <td>...</td>\n      <td>...</td>\n      <td>...</td>\n      <td>...</td>\n      <td>...</td>\n    </tr>\n    <tr>\n      <th>452854</th>\n      <td>ca1dcaf62a</td>\n      <td>142452</td>\n      <td>4.0</td>\n      <td>2016-02-23 12:32:48</td>\n      <td>Puella Magi Madoka Magica the Movie Part II: E...</td>\n      <td>Action|Animation|Horror|Mystery</td>\n    </tr>\n    <tr>\n      <th>452855</th>\n      <td>ca1dcaf62a</td>\n      <td>148374</td>\n      <td>4.5</td>\n      <td>2016-02-24 09:57:08</td>\n      <td>Cosmos (2015)</td>\n      <td>Drama</td>\n    </tr>\n    <tr>\n      <th>452856</th>\n      <td>ca1dcaf62a</td>\n      <td>153957</td>\n      <td>5.0</td>\n      <td>2016-02-25 19:29:05</td>\n      <td>The Dark Side Of Chocolate (2010)</td>\n      <td>Documentary|Drama</td>\n    </tr>\n    <tr>\n      <th>452857</th>\n      <td>5498613177</td>\n      <td>154051</td>\n      <td>4.0</td>\n      <td>2016-02-28 11:57:47</td>\n      <td>The Last Man on the Moon (2016)</td>\n      <td>Documentary|Drama</td>\n    </tr>\n    <tr>\n      <th>452858</th>\n      <td>7c6462d4f6</td>\n      <td>134712</td>\n      <td>3.0</td>\n      <td>2016-02-29 11:17:42</td>\n      <td>Magician: The Astonishing Life and Work of Ors...</td>\n      <td>Documentary</td>\n    </tr>\n  </tbody>\n</table>\n<p>452859 rows × 6 columns</p>\n</div>"
     },
     "execution_count": 70,
     "metadata": {},
     "output_type": "execute_result"
    }
   ],
   "source": [
    "# Merge all info in one dataframe\n",
    "general_info = pd.merge(item_rating, movies, on='movieId')\n",
    "general_info\n"
   ],
   "metadata": {
    "collapsed": false,
    "pycharm": {
     "name": "#%%\n"
    }
   }
  },
  {
   "cell_type": "code",
   "execution_count": 71,
   "outputs": [
    {
     "data": {
      "text/plain": "         rating_mean  votos\nmovieId                    \n2571        4.146575    730\n79132       4.097139    664\n356         3.935115    655\n318         4.329755    652\n4993        4.028549    648\n...              ...    ...\n152348      0.500000      1\n152358      0.500000      1\n152360      0.500000      1\n152477      0.500000      1\n154166      0.500000      1\n\n[12339 rows x 2 columns]",
      "text/html": "<div>\n<style scoped>\n    .dataframe tbody tr th:only-of-type {\n        vertical-align: middle;\n    }\n\n    .dataframe tbody tr th {\n        vertical-align: top;\n    }\n\n    .dataframe thead th {\n        text-align: right;\n    }\n</style>\n<table border=\"1\" class=\"dataframe\">\n  <thead>\n    <tr style=\"text-align: right;\">\n      <th></th>\n      <th>rating_mean</th>\n      <th>votos</th>\n    </tr>\n    <tr>\n      <th>movieId</th>\n      <th></th>\n      <th></th>\n    </tr>\n  </thead>\n  <tbody>\n    <tr>\n      <th>2571</th>\n      <td>4.146575</td>\n      <td>730</td>\n    </tr>\n    <tr>\n      <th>79132</th>\n      <td>4.097139</td>\n      <td>664</td>\n    </tr>\n    <tr>\n      <th>356</th>\n      <td>3.935115</td>\n      <td>655</td>\n    </tr>\n    <tr>\n      <th>318</th>\n      <td>4.329755</td>\n      <td>652</td>\n    </tr>\n    <tr>\n      <th>4993</th>\n      <td>4.028549</td>\n      <td>648</td>\n    </tr>\n    <tr>\n      <th>...</th>\n      <td>...</td>\n      <td>...</td>\n    </tr>\n    <tr>\n      <th>152348</th>\n      <td>0.500000</td>\n      <td>1</td>\n    </tr>\n    <tr>\n      <th>152358</th>\n      <td>0.500000</td>\n      <td>1</td>\n    </tr>\n    <tr>\n      <th>152360</th>\n      <td>0.500000</td>\n      <td>1</td>\n    </tr>\n    <tr>\n      <th>152477</th>\n      <td>0.500000</td>\n      <td>1</td>\n    </tr>\n    <tr>\n      <th>154166</th>\n      <td>0.500000</td>\n      <td>1</td>\n    </tr>\n  </tbody>\n</table>\n<p>12339 rows × 2 columns</p>\n</div>"
     },
     "execution_count": 71,
     "metadata": {},
     "output_type": "execute_result"
    }
   ],
   "source": [
    "# Getting rating mean and number of votos by movie\n",
    "movie_inf = ( general_info.groupby('movieId')\\\n",
    "    .agg(rating_mean= ('rating','mean'), votos= ('rating','count') )\\\n",
    "    .sort_values(['votos','rating_mean'], ascending=False))\n",
    "\n",
    "movie_inf\n",
    "\n"
   ],
   "metadata": {
    "collapsed": false,
    "pycharm": {
     "name": "#%%\n"
    }
   }
  },
  {
   "cell_type": "code",
   "execution_count": 72,
   "outputs": [
    {
     "data": {
      "text/plain": "<seaborn.axisgrid.JointGrid at 0x25c9eb445c8>"
     },
     "execution_count": 72,
     "metadata": {},
     "output_type": "execute_result"
    },
    {
     "data": {
      "text/plain": "<Figure size 432x432 with 3 Axes>",
      "image/png": "[encoded data removed]"
     },
     "metadata": {
      "needs_background": "light"
     },
     "output_type": "display_data"
    }
   ],
   "source": [
    "# Using seaborn to get data concentration of all data\n",
    "sns.jointplot(x='rating_mean', y='votos', data=movie_inf)\n",
    "\n",
    "# Using seaborn to get data concentration of votos more than 100\n",
    "# sns.jointplot(x='rating_mean', y='votos', data=movie_inf.where(movie_inf['votos'] > 100))"
   ],
   "metadata": {
    "collapsed": false,
    "pycharm": {
     "name": "#%%\n"
    }
   }
  },
  {
   "cell_type": "code",
   "execution_count": 73,
   "outputs": [
    {
     "data": {
      "text/plain": "            rating_mean  votos\nuserId                        \nb986438d3c     2.540392   4184\nd6dc47fa4c     3.179101   3847\nf87af9e2d7     3.000972   3602\n1d4a231eb8     2.636725   3145\n6fec92c8a0     2.777660   2820\n...                 ...    ...\n15cc652336     4.241379     29\n6c51ee932f     3.672414     29\ne900e40bb5     3.660714     28\n9a63bc3442     3.442308     26\na8491d3b23     3.847826     23\n\n[854 rows x 2 columns]",
      "text/html": "<div>\n<style scoped>\n    .dataframe tbody tr th:only-of-type {\n        vertical-align: middle;\n    }\n\n    .dataframe tbody tr th {\n        vertical-align: top;\n    }\n\n    .dataframe thead th {\n        text-align: right;\n    }\n</style>\n<table border=\"1\" class=\"dataframe\">\n  <thead>\n    <tr style=\"text-align: right;\">\n      <th></th>\n      <th>rating_mean</th>\n      <th>votos</th>\n    </tr>\n    <tr>\n      <th>userId</th>\n      <th></th>\n      <th></th>\n    </tr>\n  </thead>\n  <tbody>\n    <tr>\n      <th>b986438d3c</th>\n      <td>2.540392</td>\n      <td>4184</td>\n    </tr>\n    <tr>\n      <th>d6dc47fa4c</th>\n      <td>3.179101</td>\n      <td>3847</td>\n    </tr>\n    <tr>\n      <th>f87af9e2d7</th>\n      <td>3.000972</td>\n      <td>3602</td>\n    </tr>\n    <tr>\n      <th>1d4a231eb8</th>\n      <td>2.636725</td>\n      <td>3145</td>\n    </tr>\n    <tr>\n      <th>6fec92c8a0</th>\n      <td>2.777660</td>\n      <td>2820</td>\n    </tr>\n    <tr>\n      <th>...</th>\n      <td>...</td>\n      <td>...</td>\n    </tr>\n    <tr>\n      <th>15cc652336</th>\n      <td>4.241379</td>\n      <td>29</td>\n    </tr>\n    <tr>\n      <th>6c51ee932f</th>\n      <td>3.672414</td>\n      <td>29</td>\n    </tr>\n    <tr>\n      <th>e900e40bb5</th>\n      <td>3.660714</td>\n      <td>28</td>\n    </tr>\n    <tr>\n      <th>9a63bc3442</th>\n      <td>3.442308</td>\n      <td>26</td>\n    </tr>\n    <tr>\n      <th>a8491d3b23</th>\n      <td>3.847826</td>\n      <td>23</td>\n    </tr>\n  </tbody>\n</table>\n<p>854 rows × 2 columns</p>\n</div>"
     },
     "execution_count": 73,
     "metadata": {},
     "output_type": "execute_result"
    }
   ],
   "source": [
    "# Getting rating mean and number of votos by user\n",
    "user_inf = ( general_info.groupby('userId')\\\n",
    "    .agg(rating_mean= ('rating','mean'), votos= ('rating','count') )\\\n",
    "    .sort_values(['votos','rating_mean'], ascending=False))\n",
    "\n",
    "user_inf\n"
   ],
   "metadata": {
    "collapsed": false,
    "pycharm": {
     "name": "#%%\n"
    }
   }
  },
  {
   "cell_type": "code",
   "execution_count": 74,
   "outputs": [
    {
     "data": {
      "text/plain": "<seaborn.axisgrid.JointGrid at 0x25ce81279c8>"
     },
     "execution_count": 74,
     "metadata": {},
     "output_type": "execute_result"
    },
    {
     "data": {
      "text/plain": "<Figure size 432x432 with 3 Axes>",
      "image/png": "[encoded data removed]"
     },
     "metadata": {
      "needs_background": "light"
     },
     "output_type": "display_data"
    }
   ],
   "source": [
    "# Using seaborn to get data concentration of all data\n",
    "sns.jointplot(x='rating_mean', y='votos', data=user_inf)\n"
   ],
   "metadata": {
    "collapsed": false,
    "pycharm": {
     "name": "#%%\n"
    }
   }
  },
  {
   "cell_type": "markdown",
   "source": [
    "# Creating a recommendation model  using *Surprise Package*"
   ],
   "metadata": {
    "collapsed": false
   }
  },
  {
   "cell_type": "code",
   "execution_count": 75,
   "outputs": [],
   "source": [
    "# Defining reader with rating scale 1-5\n",
    "reader  = Reader(rating_scale=(1,5))\n",
    "\n",
    "# Set dataframe with userId, movieId, rating  columns in that order\n",
    "load_data = Dataset.load_from_df(general_info[['userId', 'movieId', 'rating']], reader )\n",
    "\n",
    "# Creating anti-set that it will use to recommendations\n",
    "anti_set = load_data.build_full_trainset().build_anti_testset()"
   ],
   "metadata": {
    "collapsed": false,
    "pycharm": {
     "name": "#%%\n"
    }
   }
  },
  {
   "cell_type": "code",
   "execution_count": 76,
   "outputs": [
    {
     "name": "stdout",
     "output_type": "stream",
     "text": [
      "Estimating biases using als...\n",
      "Computing the msd similarity matrix...\n",
      "Done computing similarity matrix.\n",
      "Estimating biases using als...\n",
      "Computing the msd similarity matrix...\n",
      "Done computing similarity matrix.\n",
      "Estimating biases using als...\n",
      "Computing the msd similarity matrix...\n",
      "Done computing similarity matrix.\n"
     ]
    },
    {
     "data": {
      "text/plain": "                 test_rmse   fit_time  test_time\nAlgorithm                                       \nSVD               0.794592  17.125958   1.381032\nKNNBaseline       0.801739   3.119504  25.841038\nNormalPredictor   1.363429   0.557077   1.449208",
      "text/html": "<div>\n<style scoped>\n    .dataframe tbody tr th:only-of-type {\n        vertical-align: middle;\n    }\n\n    .dataframe tbody tr th {\n        vertical-align: top;\n    }\n\n    .dataframe thead th {\n        text-align: right;\n    }\n</style>\n<table border=\"1\" class=\"dataframe\">\n  <thead>\n    <tr style=\"text-align: right;\">\n      <th></th>\n      <th>test_rmse</th>\n      <th>fit_time</th>\n      <th>test_time</th>\n    </tr>\n    <tr>\n      <th>Algorithm</th>\n      <th></th>\n      <th></th>\n      <th></th>\n    </tr>\n  </thead>\n  <tbody>\n    <tr>\n      <th>SVD</th>\n      <td>0.794592</td>\n      <td>17.125958</td>\n      <td>1.381032</td>\n    </tr>\n    <tr>\n      <th>KNNBaseline</th>\n      <td>0.801739</td>\n      <td>3.119504</td>\n      <td>25.841038</td>\n    </tr>\n    <tr>\n      <th>NormalPredictor</th>\n      <td>1.363429</td>\n      <td>0.557077</td>\n      <td>1.449208</td>\n    </tr>\n  </tbody>\n</table>\n</div>"
     },
     "execution_count": 76,
     "metadata": {},
     "output_type": "execute_result"
    }
   ],
   "source": [
    "# Var to save algorithm results\n",
    "results = []\n",
    "\n",
    "# Iterate over selected algorithms to get best between them\n",
    "for algorithm in [NormalPredictor(), SVD(), KNNBaseline()]:\n",
    "\n",
    "    # Perform cross validation\n",
    "    result = cross_validate(algorithm, load_data, measures=['RMSE'], cv=3, verbose=False)\n",
    "\n",
    "    # Get result & append algorithm name\n",
    "    tmp = pd.DataFrame.from_dict(result).mean(axis=0)\n",
    "    tmp = tmp.append(pd.Series([str(algorithm).split(' ')[0].split('.')[-1]], index=['Algorithm']))\n",
    "    results.append(tmp)\n",
    "\n",
    "# Show algorithm results\n",
    "pd.DataFrame(results).set_index('Algorithm').sort_values('test_rmse')\n"
   ],
   "metadata": {
    "collapsed": false,
    "pycharm": {
     "name": "#%%\n"
    }
   }
  },
  {
   "cell_type": "code",
   "execution_count": 77,
   "outputs": [],
   "source": [
    "def model(n_splits, algo, best_rmse, data ):\n",
    "    kf = KFold(n_splits)\n",
    "    best_algo = None\n",
    "    best_pred = None\n",
    "    for trainset, testset in kf.split(data):\n",
    "        # train and test algorithm.\n",
    "        algo.fit(trainset)\n",
    "        prediction = algo.test(testset)\n",
    "\n",
    "        # Compute and print Root Mean Squared Error\n",
    "        rmse = accuracy.rmse(prediction, verbose=True)\n",
    "\n",
    "        if rmse < best_rmse:\n",
    "            best_rmse = rmse\n",
    "            best_algo = algo\n",
    "            best_pred = prediction\n",
    "\n",
    "    return  best_rmse, best_algo, best_pred\n"
   ],
   "metadata": {
    "collapsed": false,
    "pycharm": {
     "name": "#%%\n"
    }
   }
  },
  {
   "cell_type": "code",
   "execution_count": 78,
   "outputs": [
    {
     "name": "stdout",
     "output_type": "stream",
     "text": [
      "Estimating biases using als...\n",
      "Computing the msd similarity matrix...\n",
      "Done computing similarity matrix.\n",
      "RMSE: 0.8480\n",
      "Estimating biases using als...\n",
      "Computing the msd similarity matrix...\n",
      "Done computing similarity matrix.\n",
      "RMSE: 0.8504\n",
      "Estimating biases using als...\n",
      "Computing the msd similarity matrix...\n",
      "Done computing similarity matrix.\n",
      "RMSE: 0.8496\n"
     ]
    },
    {
     "ename": "KeyError",
     "evalue": "\"['userName', 'movieName'] not in index\"",
     "output_type": "error",
     "traceback": [
      "\u001B[1;31m---------------------------------------------------------------------------\u001B[0m",
      "\u001B[1;31mKeyError\u001B[0m                                  Traceback (most recent call last)",
      "\u001B[1;32m<ipython-input-78-5f35e228f180>\u001B[0m in \u001B[0;36m<module>\u001B[1;34m\u001B[0m\n\u001B[0;32m      3\u001B[0m \u001B[0mrmse\u001B[0m\u001B[1;33m,\u001B[0m \u001B[0malgorithm\u001B[0m\u001B[1;33m,\u001B[0m \u001B[0mprediction\u001B[0m \u001B[1;33m=\u001B[0m \u001B[0mmodel\u001B[0m\u001B[1;33m(\u001B[0m\u001B[1;36m3\u001B[0m\u001B[1;33m,\u001B[0m \u001B[0malgo\u001B[0m\u001B[1;33m,\u001B[0m \u001B[1;36m1000\u001B[0m\u001B[1;33m,\u001B[0m \u001B[0mload_data\u001B[0m\u001B[1;33m)\u001B[0m\u001B[1;33m\u001B[0m\u001B[1;33m\u001B[0m\u001B[0m\n\u001B[0;32m      4\u001B[0m \u001B[0mpilot\u001B[0m \u001B[1;33m=\u001B[0m \u001B[0mpd\u001B[0m\u001B[1;33m.\u001B[0m\u001B[0mDataFrame\u001B[0m\u001B[1;33m(\u001B[0m\u001B[0mprediction\u001B[0m\u001B[1;33m)\u001B[0m\u001B[1;33m.\u001B[0m\u001B[0mmerge\u001B[0m\u001B[1;33m(\u001B[0m\u001B[0mgeneral_info\u001B[0m \u001B[1;33m,\u001B[0m \u001B[0mleft_on\u001B[0m \u001B[1;33m=\u001B[0m \u001B[1;33m[\u001B[0m\u001B[1;34m'uid'\u001B[0m\u001B[1;33m,\u001B[0m \u001B[1;34m'iid'\u001B[0m\u001B[1;33m]\u001B[0m\u001B[1;33m,\u001B[0m \u001B[0mright_on\u001B[0m \u001B[1;33m=\u001B[0m \u001B[1;33m[\u001B[0m\u001B[1;34m'userId'\u001B[0m\u001B[1;33m,\u001B[0m \u001B[1;34m'movieId'\u001B[0m\u001B[1;33m]\u001B[0m\u001B[1;33m)\u001B[0m\u001B[1;33m\u001B[0m\u001B[1;33m\u001B[0m\u001B[0m\n\u001B[1;32m----> 5\u001B[1;33m \u001B[0mpilot\u001B[0m\u001B[1;33m[\u001B[0m\u001B[1;33m[\u001B[0m\u001B[1;34m'uid'\u001B[0m\u001B[1;33m,\u001B[0m \u001B[1;34m'iid'\u001B[0m\u001B[1;33m,\u001B[0m  \u001B[1;34m'userName'\u001B[0m\u001B[1;33m,\u001B[0m \u001B[1;34m'userId'\u001B[0m\u001B[1;33m,\u001B[0m \u001B[1;34m'movieName'\u001B[0m\u001B[1;33m,\u001B[0m \u001B[1;34m'movieId'\u001B[0m\u001B[1;33m,\u001B[0m \u001B[1;34m'est'\u001B[0m\u001B[1;33m,\u001B[0m\u001B[1;34m'rating'\u001B[0m\u001B[1;33m]\u001B[0m\u001B[1;33m]\u001B[0m\u001B[1;33m\u001B[0m\u001B[1;33m\u001B[0m\u001B[0m\n\u001B[0m\u001B[0;32m      6\u001B[0m \u001B[1;33m\u001B[0m\u001B[0m\n",
      "\u001B[1;32mC:\\ProgramData\\Miniconda3\\envs\\magvd_imdb\\lib\\site-packages\\pandas\\core\\frame.py\u001B[0m in \u001B[0;36m__getitem__\u001B[1;34m(self, key)\u001B[0m\n\u001B[0;32m   2804\u001B[0m             \u001B[1;32mif\u001B[0m \u001B[0mis_iterator\u001B[0m\u001B[1;33m(\u001B[0m\u001B[0mkey\u001B[0m\u001B[1;33m)\u001B[0m\u001B[1;33m:\u001B[0m\u001B[1;33m\u001B[0m\u001B[1;33m\u001B[0m\u001B[0m\n\u001B[0;32m   2805\u001B[0m                 \u001B[0mkey\u001B[0m \u001B[1;33m=\u001B[0m \u001B[0mlist\u001B[0m\u001B[1;33m(\u001B[0m\u001B[0mkey\u001B[0m\u001B[1;33m)\u001B[0m\u001B[1;33m\u001B[0m\u001B[1;33m\u001B[0m\u001B[0m\n\u001B[1;32m-> 2806\u001B[1;33m             \u001B[0mindexer\u001B[0m \u001B[1;33m=\u001B[0m \u001B[0mself\u001B[0m\u001B[1;33m.\u001B[0m\u001B[0mloc\u001B[0m\u001B[1;33m.\u001B[0m\u001B[0m_get_listlike_indexer\u001B[0m\u001B[1;33m(\u001B[0m\u001B[0mkey\u001B[0m\u001B[1;33m,\u001B[0m \u001B[0maxis\u001B[0m\u001B[1;33m=\u001B[0m\u001B[1;36m1\u001B[0m\u001B[1;33m,\u001B[0m \u001B[0mraise_missing\u001B[0m\u001B[1;33m=\u001B[0m\u001B[1;32mTrue\u001B[0m\u001B[1;33m)\u001B[0m\u001B[1;33m[\u001B[0m\u001B[1;36m1\u001B[0m\u001B[1;33m]\u001B[0m\u001B[1;33m\u001B[0m\u001B[1;33m\u001B[0m\u001B[0m\n\u001B[0m\u001B[0;32m   2807\u001B[0m \u001B[1;33m\u001B[0m\u001B[0m\n\u001B[0;32m   2808\u001B[0m         \u001B[1;31m# take() does not accept boolean indexers\u001B[0m\u001B[1;33m\u001B[0m\u001B[1;33m\u001B[0m\u001B[1;33m\u001B[0m\u001B[0m\n",
      "\u001B[1;32mC:\\ProgramData\\Miniconda3\\envs\\magvd_imdb\\lib\\site-packages\\pandas\\core\\indexing.py\u001B[0m in \u001B[0;36m_get_listlike_indexer\u001B[1;34m(self, key, axis, raise_missing)\u001B[0m\n\u001B[0;32m   1551\u001B[0m \u001B[1;33m\u001B[0m\u001B[0m\n\u001B[0;32m   1552\u001B[0m         self._validate_read_indexer(\n\u001B[1;32m-> 1553\u001B[1;33m             \u001B[0mkeyarr\u001B[0m\u001B[1;33m,\u001B[0m \u001B[0mindexer\u001B[0m\u001B[1;33m,\u001B[0m \u001B[0mo\u001B[0m\u001B[1;33m.\u001B[0m\u001B[0m_get_axis_number\u001B[0m\u001B[1;33m(\u001B[0m\u001B[0maxis\u001B[0m\u001B[1;33m)\u001B[0m\u001B[1;33m,\u001B[0m \u001B[0mraise_missing\u001B[0m\u001B[1;33m=\u001B[0m\u001B[0mraise_missing\u001B[0m\u001B[1;33m\u001B[0m\u001B[1;33m\u001B[0m\u001B[0m\n\u001B[0m\u001B[0;32m   1554\u001B[0m         )\n\u001B[0;32m   1555\u001B[0m         \u001B[1;32mreturn\u001B[0m \u001B[0mkeyarr\u001B[0m\u001B[1;33m,\u001B[0m \u001B[0mindexer\u001B[0m\u001B[1;33m\u001B[0m\u001B[1;33m\u001B[0m\u001B[0m\n",
      "\u001B[1;32mC:\\ProgramData\\Miniconda3\\envs\\magvd_imdb\\lib\\site-packages\\pandas\\core\\indexing.py\u001B[0m in \u001B[0;36m_validate_read_indexer\u001B[1;34m(self, key, indexer, axis, raise_missing)\u001B[0m\n\u001B[0;32m   1644\u001B[0m             \u001B[1;32mif\u001B[0m \u001B[1;32mnot\u001B[0m \u001B[1;33m(\u001B[0m\u001B[0mself\u001B[0m\u001B[1;33m.\u001B[0m\u001B[0mname\u001B[0m \u001B[1;33m==\u001B[0m \u001B[1;34m\"loc\"\u001B[0m \u001B[1;32mand\u001B[0m \u001B[1;32mnot\u001B[0m \u001B[0mraise_missing\u001B[0m\u001B[1;33m)\u001B[0m\u001B[1;33m:\u001B[0m\u001B[1;33m\u001B[0m\u001B[1;33m\u001B[0m\u001B[0m\n\u001B[0;32m   1645\u001B[0m                 \u001B[0mnot_found\u001B[0m \u001B[1;33m=\u001B[0m \u001B[0mlist\u001B[0m\u001B[1;33m(\u001B[0m\u001B[0mset\u001B[0m\u001B[1;33m(\u001B[0m\u001B[0mkey\u001B[0m\u001B[1;33m)\u001B[0m \u001B[1;33m-\u001B[0m \u001B[0mset\u001B[0m\u001B[1;33m(\u001B[0m\u001B[0max\u001B[0m\u001B[1;33m)\u001B[0m\u001B[1;33m)\u001B[0m\u001B[1;33m\u001B[0m\u001B[1;33m\u001B[0m\u001B[0m\n\u001B[1;32m-> 1646\u001B[1;33m                 \u001B[1;32mraise\u001B[0m \u001B[0mKeyError\u001B[0m\u001B[1;33m(\u001B[0m\u001B[1;34mf\"{not_found} not in index\"\u001B[0m\u001B[1;33m)\u001B[0m\u001B[1;33m\u001B[0m\u001B[1;33m\u001B[0m\u001B[0m\n\u001B[0m\u001B[0;32m   1647\u001B[0m \u001B[1;33m\u001B[0m\u001B[0m\n\u001B[0;32m   1648\u001B[0m             \u001B[1;31m# we skip the warning on Categorical/Interval\u001B[0m\u001B[1;33m\u001B[0m\u001B[1;33m\u001B[0m\u001B[1;33m\u001B[0m\u001B[0m\n",
      "\u001B[1;31mKeyError\u001B[0m: \"['userName', 'movieName'] not in index\""
     ]
    }
   ],
   "source": [
    "kf = KFold(n_splits=3)\n",
    "algo = KNNBaseline(k=3)\n",
    "rmse, algorithm, prediction = model(3, algo, 1000, load_data)\n",
    "pilot = pd.DataFrame(prediction).merge(general_info , left_on = ['uid', 'iid'], right_on = ['userId', 'movieId'])\n",
    "first_approach = pilot[['uid', 'iid', 'userId', 'title', 'movieId', 'est','rating']].sort_values('userId', ascending=False)\n",
    "\n",
    "first_approach"
   ],
   "metadata": {
    "collapsed": false,
    "pycharm": {
     "name": "#%%\n"
    }
   }
  },
  {
   "cell_type": "code",
   "execution_count": 81,
   "outputs": [
    {
     "data": {
      "text/plain": "               uid     iid      userId  \\\n133391  ffc2856f40   33639  ffc2856f40   \n56759   ffc2856f40   39292  ffc2856f40   \n6233    ffc2856f40   56782  ffc2856f40   \n56951   ffc2856f40    3426  ffc2856f40   \n72020   ffc2856f40    4973  ffc2856f40   \n...            ...     ...         ...   \n17007   0011a9baea  105213  0011a9baea   \n142329  0011a9baea    1210  0011a9baea   \n52510   0011a9baea    4014  0011a9baea   \n96102   0011a9baea   45722  0011a9baea   \n55754   0011a9baea  111759  0011a9baea   \n\n                                                    title  movieId       est  \\\n133391                            Mad Hot Ballroom (2005)    33639  4.285161   \n56759                   Good Night, and Good Luck. (2005)    39292  4.001039   \n6233                           There Will Be Blood (2007)    56782  4.203691   \n56951                                 Jungle Fever (1991)     3426  3.553306   \n72020   Amelie (Fabuleux destin d'Amélie Poulain, Le) ...     4973  4.126065   \n...                                                   ...      ...       ...   \n17007                                      Don Jon (2013)   105213  3.793143   \n142329  Star Wars: Episode VI - Return of the Jedi (1983)     1210  4.361754   \n52510                                     Chocolat (2000)     4014  3.259283   \n96102   Pirates of the Caribbean: Dead Man's Chest (2006)    45722  4.568937   \n55754                             Edge of Tomorrow (2014)   111759  5.000000   \n\n        rating  \n133391     4.0  \n56759      4.5  \n6233       4.5  \n56951      3.5  \n72020      5.0  \n...        ...  \n17007      3.0  \n142329     5.0  \n52510      5.0  \n96102      3.5  \n55754      5.0  \n\n[150953 rows x 7 columns]",
      "text/html": "<div>\n<style scoped>\n    .dataframe tbody tr th:only-of-type {\n        vertical-align: middle;\n    }\n\n    .dataframe tbody tr th {\n        vertical-align: top;\n    }\n\n    .dataframe thead th {\n        text-align: right;\n    }\n</style>\n<table border=\"1\" class=\"dataframe\">\n  <thead>\n    <tr style=\"text-align: right;\">\n      <th></th>\n      <th>uid</th>\n      <th>iid</th>\n      <th>userId</th>\n      <th>title</th>\n      <th>movieId</th>\n      <th>est</th>\n      <th>rating</th>\n    </tr>\n  </thead>\n  <tbody>\n    <tr>\n      <th>133391</th>\n      <td>ffc2856f40</td>\n      <td>33639</td>\n      <td>ffc2856f40</td>\n      <td>Mad Hot Ballroom (2005)</td>\n      <td>33639</td>\n      <td>4.285161</td>\n      <td>4.0</td>\n    </tr>\n    <tr>\n      <th>56759</th>\n      <td>ffc2856f40</td>\n      <td>39292</td>\n      <td>ffc2856f40</td>\n      <td>Good Night, and Good Luck. (2005)</td>\n      <td>39292</td>\n      <td>4.001039</td>\n      <td>4.5</td>\n    </tr>\n    <tr>\n      <th>6233</th>\n      <td>ffc2856f40</td>\n      <td>56782</td>\n      <td>ffc2856f40</td>\n      <td>There Will Be Blood (2007)</td>\n      <td>56782</td>\n      <td>4.203691</td>\n      <td>4.5</td>\n    </tr>\n    <tr>\n      <th>56951</th>\n      <td>ffc2856f40</td>\n      <td>3426</td>\n      <td>ffc2856f40</td>\n      <td>Jungle Fever (1991)</td>\n      <td>3426</td>\n      <td>3.553306</td>\n      <td>3.5</td>\n    </tr>\n    <tr>\n      <th>72020</th>\n      <td>ffc2856f40</td>\n      <td>4973</td>\n      <td>ffc2856f40</td>\n      <td>Amelie (Fabuleux destin d'Amélie Poulain, Le) ...</td>\n      <td>4973</td>\n      <td>4.126065</td>\n      <td>5.0</td>\n    </tr>\n    <tr>\n      <th>...</th>\n      <td>...</td>\n      <td>...</td>\n      <td>...</td>\n      <td>...</td>\n      <td>...</td>\n      <td>...</td>\n      <td>...</td>\n    </tr>\n    <tr>\n      <th>17007</th>\n      <td>0011a9baea</td>\n      <td>105213</td>\n      <td>0011a9baea</td>\n      <td>Don Jon (2013)</td>\n      <td>105213</td>\n      <td>3.793143</td>\n      <td>3.0</td>\n    </tr>\n    <tr>\n      <th>142329</th>\n      <td>0011a9baea</td>\n      <td>1210</td>\n      <td>0011a9baea</td>\n      <td>Star Wars: Episode VI - Return of the Jedi (1983)</td>\n      <td>1210</td>\n      <td>4.361754</td>\n      <td>5.0</td>\n    </tr>\n    <tr>\n      <th>52510</th>\n      <td>0011a9baea</td>\n      <td>4014</td>\n      <td>0011a9baea</td>\n      <td>Chocolat (2000)</td>\n      <td>4014</td>\n      <td>3.259283</td>\n      <td>5.0</td>\n    </tr>\n    <tr>\n      <th>96102</th>\n      <td>0011a9baea</td>\n      <td>45722</td>\n      <td>0011a9baea</td>\n      <td>Pirates of the Caribbean: Dead Man's Chest (2006)</td>\n      <td>45722</td>\n      <td>4.568937</td>\n      <td>3.5</td>\n    </tr>\n    <tr>\n      <th>55754</th>\n      <td>0011a9baea</td>\n      <td>111759</td>\n      <td>0011a9baea</td>\n      <td>Edge of Tomorrow (2014)</td>\n      <td>111759</td>\n      <td>5.000000</td>\n      <td>5.0</td>\n    </tr>\n  </tbody>\n</table>\n<p>150953 rows × 7 columns</p>\n</div>"
     },
     "execution_count": 81,
     "metadata": {},
     "output_type": "execute_result"
    }
   ],
   "source": [],
   "metadata": {
    "collapsed": false,
    "pycharm": {
     "name": "#%%\n"
    }
   }
  }
 ],
 "metadata": {
  "kernelspec": {
   "display_name": "Python 3",
   "language": "python",
   "name": "python3"
  },
  "language_info": {
   "codemirror_mode": {
    "name": "ipython",
    "version": 2
   },
   "file_extension": ".py",
   "mimetype": "text/x-python",
   "name": "python",
   "nbconvert_exporter": "python",
   "pygments_lexer": "ipython2",
   "version": "2.7.6"
  }
 },
 "nbformat": 4,
 "nbformat_minor": 0
}